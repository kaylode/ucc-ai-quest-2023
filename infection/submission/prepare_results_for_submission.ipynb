{
 "cells": [
  {
   "cell_type": "code",
   "execution_count": 1,
   "metadata": {},
   "outputs": [],
   "source": [
    "import json\n",
    "import torch\n",
    "from albumentations.pytorch import ToTensorV2\n",
    "from datasets import SegDataset\n",
    "from models import SegModel\n",
    "from utils import mask_to_rle"
   ]
  },
  {
   "cell_type": "markdown",
   "metadata": {},
   "source": [
    "### Load model from existing checkpoint"
   ]
  },
  {
   "cell_type": "code",
   "execution_count": 3,
   "metadata": {},
   "outputs": [],
   "source": [
    "model = SegModel.load_from_checkpoint(\"checkpoints/epoch=1-val_loss=0.68-val_high_vegetation_IoU=48.62-val_mIoU=52.77.ckpt\")"
   ]
  },
  {
   "cell_type": "markdown",
   "metadata": {},
   "source": [
    "### Generate results for the validation set of the warmup phase"
   ]
  },
  {
   "cell_type": "markdown",
   "metadata": {},
   "source": [
    "Change the `phase` and `split` accordingly"
   ]
  },
  {
   "cell_type": "code",
   "execution_count": 4,
   "metadata": {},
   "outputs": [],
   "source": [
    "ds = SegDataset(phase=\"warmup\", split=\"valid\", transform=ToTensorV2())"
   ]
  },
  {
   "cell_type": "markdown",
   "metadata": {},
   "source": [
    "### Convert predictions from binary masks to RLE encoding for submission"
   ]
  },
  {
   "cell_type": "code",
   "execution_count": 6,
   "metadata": {},
   "outputs": [],
   "source": [
    "model.eval()\n",
    "results = {}\n",
    "\n",
    "for i, batch in enumerate(ds):\n",
    "    filename = ds.img_list[i]\n",
    "    img, _ = batch\n",
    "    out = model(img.float().unsqueeze(dim=0).to(model.device))['out']\n",
    "    probs = torch.softmax(out, dim=1)\n",
    "    pred = torch.argmax(probs, dim=1)\n",
    "    pred = pred.detach().cpu().numpy().squeeze()\n",
    "\n",
    "    rle = mask_to_rle(pred)\n",
    "    results[filename] = {\n",
    "        \"counts\": rle,\n",
    "        \"height\": pred.shape[0],\n",
    "        \"width\": pred.shape[1],\n",
    "    }\n",
    "\n",
    "with open(\"results.json\", \"w\") as f:\n",
    "        json.dump(results, f)"
   ]
  },
  {
   "cell_type": "markdown",
   "metadata": {},
   "source": [
    "### Zip the file `results.json`"
   ]
  },
  {
   "cell_type": "code",
   "execution_count": 7,
   "metadata": {},
   "outputs": [
    {
     "name": "stdout",
     "output_type": "stream",
     "text": [
      "  adding: results.json (deflated 64%)\n"
     ]
    }
   ],
   "source": [
    "!zip results.zip results.json"
   ]
  },
  {
   "cell_type": "markdown",
   "metadata": {},
   "source": [
    "### Done!, you can now submit the file `results.zip`, good luck!!!"
   ]
  }
 ],
 "metadata": {
  "kernelspec": {
   "display_name": "ucc-ai-baseline",
   "language": "python",
   "name": "python3"
  },
  "language_info": {
   "codemirror_mode": {
    "name": "ipython",
    "version": 3
   },
   "file_extension": ".py",
   "mimetype": "text/x-python",
   "name": "python",
   "nbconvert_exporter": "python",
   "pygments_lexer": "ipython3",
   "version": "3.10.12"
  }
 },
 "nbformat": 4,
 "nbformat_minor": 2
}
